{
  "cells": [
    {
      "cell_type": "markdown",
      "metadata": {
        "id": "Xf95CSsw6Q-E"
      },
      "source": [
        "Carga de paquetes (y en el colab meter la imagen, habrá que quitar lo del google colab)"
      ]
    },
    {
      "cell_type": "code",
      "execution_count": null,
      "metadata": {
        "id": "p5b31cTtepbb"
      },
      "outputs": [],
      "source": [
        "import cv2 \n",
        "import easyocr #OCR que igual ni usamos\n",
        "import pytesseract  # El ocr bueno\n",
        "import matplotlib.pyplot as plt\n",
        "import shutil\n",
        "import os\n",
        "import random\n",
        "try:\n",
        " from PIL import Image\n",
        "except ImportError:\n",
        " import Image\n",
        "\n",
        "reader = easyocr.Reader(['hi','en'])\n"
      ]
    },
    {
      "cell_type": "markdown",
      "metadata": {
        "id": "8QOKTRpc6hmj"
      },
      "source": [
        "ocr pytesseract para detectar texto directamente (pocho):"
      ]
    },
    {
      "cell_type": "raw",
      "metadata": {
        "id": "eoNl6Q1De-TG"
      },
      "source": [
        "image_path_in_colab=\".git/\"\n",
        "\n",
        "extractedInformation = pytesseract.image_to_string(Image.open(image_path_in_colab))\n",
        "print(pytesseract.image_to_boxes(Image.open(image_path_in_colab)))\n",
        "print(extractedInformation)\n"
      ]
    },
    {
      "cell_type": "markdown",
      "metadata": {
        "id": "t4SE-34Q6jaz"
      },
      "source": [
        "ocr easyocr para detectar texto directamente (mejor):"
      ]
    },
    {
      "cell_type": "raw",
      "metadata": {
        "id": "Lng5ha2_AyoF"
      },
      "source": [
        "bounds = reader.readtext(image_path_in_colab, detail=0) #detail=0 argument will only give text in array\n",
        "print(\"Output:\")\n",
        "print(bounds)"
      ]
    },
    {
      "cell_type": "markdown",
      "metadata": {
        "id": "WZkuQOQ96uOg"
      },
      "source": [
        "ocr pytesseract para sacar imagenes letra a letra:"
      ]
    },
    {
      "cell_type": "code",
      "execution_count": 33,
      "metadata": {
        "id": "dtWaIx5k14Dx"
      },
      "outputs": [],
      "source": [
        "image_path_in_colab=\"\"\n",
        "image = cv2.imread(image_path_in_colab)\n",
        "\n",
        "# Convertir a escala de grises\n",
        "gray = cv2.cvtColor(image, cv2.COLOR_BGR2GRAY)\n",
        "\n",
        "# Aplicar umbralización o técnicas de binarización si es necesario\n",
        "\n",
        "# Aplicar un filtro de suavizado o técnicas de eliminación de ruido si es necesario\n",
        "\n",
        "# Detección de bordes con el algoritmo Canny\n",
        "edged_image = cv2.Canny(gray, threshold1=30, threshold2=100)  # Ajusta los valores de umbral según tu imagen\n",
        "\n",
        "# Encuentra los contornos en la imagen de bordes\n",
        "contours, _ = cv2.findContours(edged_image, cv2.RETR_EXTERNAL, cv2.CHAIN_APPROX_SIMPLE)\n",
        "\n",
        "# Recorrer los contornos identificados\n",
        "for i,contour in enumerate(contours):\n",
        "    # Obtener las coordenadas y dimensiones de cada contorno\n",
        "    x, y, w, h = cv2.boundingRect(contour)\n",
        "\n",
        "    # Recortar la región con la letra\n",
        "    letter_region = image[y:y+h, x:x+w]\n",
        "\n",
        "    # Aplicar OCR para reconocimiento de texto en la región\n",
        "    text = pytesseract.image_to_string(letter_region, lang='eng')\n",
        "\n",
        "    # Guardar la imagen de la letra y el texto reconocido\n",
        "    cv2.imwrite(f'fotos/letra_{i}.png'.format(text), letter_region)"
      ]
    },
    {
      "cell_type": "raw",
      "metadata": {
        "id": "9LXN7SB9EfbE"
      },
      "source": [
        "from google.colab.patches import cv2_imshow\n",
        "edged_image = cv2.Canny(gray, threshold1=30, threshold2=100)  # Ajusta los valores de umbral según tu imagen\n",
        "\n",
        "# Encuentra los contornos en la imagen de bordes\n",
        "contours, _ = cv2.findContours(edged_image, cv2.RETR_EXTERNAL, cv2.CHAIN_APPROX_SIMPLE)\n",
        "# Recorrer los contornos identificados y mostrar las regiones recortadas\n",
        "for contour in contours:\n",
        "    x, y, w, h = cv2.boundingRect(contour)\n",
        "    letter_region = image[y:y+h, x:x+w]\n",
        "    cv2_imshow(letter_region)\n",
        "    cv2.waitKey(0)\n",
        "\n",
        "cv2.destroyAllWindows()"
      ]
    },
    {
      "cell_type": "markdown",
      "metadata": {
        "id": "zVYjaqwe60vy"
      },
      "source": [
        "ocr easyocr para sacar imagenes letra a letra:"
      ]
    },
    {
      "cell_type": "code",
      "execution_count": 20,
      "metadata": {
        "colab": {
          "base_uri": "https://localhost:8080/"
        },
        "id": "_tSRBNDt68u5",
        "outputId": "9c8f6085-0a3e-46fa-b4c0-9d7cf615373b"
      },
      "outputs": [
        {
          "name": "stderr",
          "output_type": "stream",
          "text": [
            "WARNING:easyocr.easyocr:Neither CUDA nor MPS are available - defaulting to CPU. Note: This module is much faster with a GPU.\n",
            "WARNING:easyocr.easyocr:Downloading recognition model, please wait. This may take several minutes depending upon your network connection.\n"
          ]
        },
        {
          "name": "stdout",
          "output_type": "stream",
          "text": [
            "Progress: |██████████████████████████████████████████████████| 100.0% Complete"
          ]
        }
      ],
      "source": [
        "# Convertir a escala de grises\n",
        "gray = cv2.cvtColor(image, cv2.COLOR_BGR2GRAY)\n",
        "\n",
        "# Aplicar umbralización o técnicas de binarización si es necesario\n",
        "\n",
        "# Aplicar un filtro de suavizado o técnicas de eliminación de ruido si es necesario\n",
        "\n",
        "# Configurar EasyOCR\n",
        "reader = easyocr.Reader(['en'])  # Puedes añadir más idiomas si es necesario\n",
        "\n",
        "# Encontrar contornos en la imagen de bordes\n",
        "contours, _ = cv2.findContours(gray, cv2.RETR_EXTERNAL, cv2.CHAIN_APPROX_SIMPLE)\n",
        "\n",
        "# Recorrer los contornos identificados\n",
        "for contour in contours:\n",
        "    # Obtener las coordenadas y dimensiones de cada contorno\n",
        "    x, y, w, h = cv2.boundingRect(contour)\n",
        "\n",
        "    # Recortar la región con la letra\n",
        "    letter_region = image[y:y+h, x:x+w]\n",
        "\n",
        "    # Convertir la región a RGB (EasyOCR espera imágenes en formato RGB)\n",
        "    letter_rgb = cv2.cvtColor(letter_region, cv2.COLOR_BGR2RGB)\n",
        "\n",
        "    # Aplicar EasyOCR para reconocimiento de texto en la región\n",
        "    result = reader.readtext(letter_rgb)\n",
        "\n",
        "    if result:\n",
        "        text = result[0][-2]  # Tomar el texto reconocido\n",
        "\n",
        "        # Guardar la imagen de la letra y el texto reconocido\n",
        "        cv2.imwrite('letra_{}.png'.format(text), letter_region)"
      ]
    }
  ],
  "metadata": {
    "colab": {
      "provenance": []
    },
    "kernelspec": {
      "display_name": "Python 3",
      "name": "python3"
    },
    "language_info": {
      "name": "python",
      "version": "3.11.5"
    }
  },
  "nbformat": 4,
  "nbformat_minor": 0
}
